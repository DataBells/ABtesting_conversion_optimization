{
 "cells": [
  {
   "cell_type": "markdown",
   "id": "0899322d-e92c-4485-9f9c-01fcccf474b0",
   "metadata": {},
   "source": [
    "<center>\n",
    "<h1 style=\"\n",
    "    text-align: center; \n",
    "    color: white; \n",
    "    font-size: 36px; \n",
    "    border: 3px solid black; \n",
    "    background-color: #FB8500;\n",
    "    padding: 30px;\n",
    "    width: 80%;\n",
    "    height: 50px;\n",
    "    margin: auto;\n",
    "    border-radius: 10px;\">\n",
    "    \n",
    "🔊🔊Speakers Website Audience Conversion Data🔊🔊\n",
    "\n",
    "</h1>\n",
    "</center>"
   ]
  },
  {
   "cell_type": "markdown",
   "id": "2acba7fa-6313-4878-a151-92f249691b01",
   "metadata": {},
   "source": [
    "<center> <img src=\"ProblemStatement.jpg\" alt=\"title\" width=\"80%\"/></center>"
   ]
  },
  {
   "cell_type": "code",
   "execution_count": null,
   "id": "818f9547-42a7-4b15-b04a-990be38b9f41",
   "metadata": {},
   "outputs": [],
   "source": []
  },
  {
   "cell_type": "code",
   "execution_count": null,
   "id": "3253c044-9243-4b77-a2ea-5a544c3c5b73",
   "metadata": {},
   "outputs": [],
   "source": []
  },
  {
   "cell_type": "code",
   "execution_count": null,
   "id": "52d006c2-ca3c-454a-ba48-6a73fb524a50",
   "metadata": {},
   "outputs": [],
   "source": []
  },
  {
   "cell_type": "code",
   "execution_count": null,
   "id": "a4d16e9d-ad29-4169-95fb-6ca7d662acd9",
   "metadata": {},
   "outputs": [],
   "source": []
  },
  {
   "cell_type": "code",
   "execution_count": null,
   "id": "53012544-d595-4ae6-934d-725cebe8f31f",
   "metadata": {},
   "outputs": [],
   "source": []
  },
  {
   "cell_type": "code",
   "execution_count": null,
   "id": "f88b5c9d-3392-48a1-8522-d6151f6955e1",
   "metadata": {},
   "outputs": [],
   "source": []
  },
  {
   "cell_type": "code",
   "execution_count": null,
   "id": "f0da6263-a70f-4a84-9698-fdbe026dfe4b",
   "metadata": {},
   "outputs": [],
   "source": []
  },
  {
   "cell_type": "code",
   "execution_count": null,
   "id": "603d6ec1-a9e6-413d-adb5-c3a165229317",
   "metadata": {},
   "outputs": [],
   "source": []
  },
  {
   "cell_type": "code",
   "execution_count": null,
   "id": "22536073-6c77-4e03-9db4-01293bcbefa1",
   "metadata": {},
   "outputs": [],
   "source": []
  },
  {
   "cell_type": "code",
   "execution_count": null,
   "id": "b90c474e-1c72-4d9e-8874-e739349c35a2",
   "metadata": {},
   "outputs": [],
   "source": []
  },
  {
   "cell_type": "code",
   "execution_count": null,
   "id": "5c466621-5463-4139-8c6a-0d6c9b7b1d80",
   "metadata": {},
   "outputs": [],
   "source": []
  },
  {
   "cell_type": "code",
   "execution_count": null,
   "id": "c831fc14-c2a9-438d-9fb7-eba83ee3d883",
   "metadata": {},
   "outputs": [],
   "source": []
  },
  {
   "cell_type": "code",
   "execution_count": null,
   "id": "dfa0f7f8-75c7-4299-9b04-4e22f96c80e9",
   "metadata": {},
   "outputs": [],
   "source": []
  },
  {
   "cell_type": "code",
   "execution_count": null,
   "id": "87c34383-2e4c-4156-baf4-4dd19c690f51",
   "metadata": {},
   "outputs": [],
   "source": []
  },
  {
   "cell_type": "code",
   "execution_count": null,
   "id": "e0b1692c-4fa7-4271-b39b-2c7bba5dbe72",
   "metadata": {},
   "outputs": [],
   "source": []
  },
  {
   "cell_type": "code",
   "execution_count": null,
   "id": "7c2bacd1-9537-47b1-b909-6d2e8a0466c5",
   "metadata": {},
   "outputs": [],
   "source": []
  },
  {
   "cell_type": "code",
   "execution_count": null,
   "id": "813916e1-81a3-49bc-9c43-094e4cb86007",
   "metadata": {},
   "outputs": [],
   "source": []
  },
  {
   "cell_type": "code",
   "execution_count": null,
   "id": "beebba2d-8738-4d24-8c4a-7b110f02c624",
   "metadata": {},
   "outputs": [],
   "source": []
  },
  {
   "cell_type": "code",
   "execution_count": null,
   "id": "d9551d26-bd00-47cf-b890-c71ad0d5d059",
   "metadata": {},
   "outputs": [],
   "source": []
  },
  {
   "cell_type": "code",
   "execution_count": null,
   "id": "7aa65bb2-b6ca-4c0b-8fb0-e2cfb6f17761",
   "metadata": {},
   "outputs": [],
   "source": []
  },
  {
   "cell_type": "code",
   "execution_count": null,
   "id": "4dfbc2ea-ce95-4eb0-b350-937f47988498",
   "metadata": {},
   "outputs": [],
   "source": []
  },
  {
   "cell_type": "code",
   "execution_count": null,
   "id": "76056117-6b65-4d56-8410-99b1a1558e9e",
   "metadata": {},
   "outputs": [],
   "source": []
  },
  {
   "cell_type": "code",
   "execution_count": null,
   "id": "201d04ad-1adc-47b8-b93b-aa3b14749889",
   "metadata": {},
   "outputs": [],
   "source": []
  },
  {
   "cell_type": "code",
   "execution_count": null,
   "id": "5a1c2c80-4cf1-485a-86da-1e6ce41c43ae",
   "metadata": {},
   "outputs": [],
   "source": []
  },
  {
   "cell_type": "code",
   "execution_count": null,
   "id": "a2fcff33-ae86-4d1e-84bf-45b70d6f80a2",
   "metadata": {},
   "outputs": [],
   "source": []
  },
  {
   "cell_type": "code",
   "execution_count": null,
   "id": "3db877f7-578c-4a6d-a16c-93129998161f",
   "metadata": {},
   "outputs": [],
   "source": []
  },
  {
   "cell_type": "code",
   "execution_count": null,
   "id": "4fa08086-8187-4d41-b246-36d061bb8a93",
   "metadata": {},
   "outputs": [],
   "source": []
  },
  {
   "cell_type": "code",
   "execution_count": null,
   "id": "130c2fed-df55-4749-a90d-85e103ab14eb",
   "metadata": {},
   "outputs": [],
   "source": []
  },
  {
   "cell_type": "code",
   "execution_count": null,
   "id": "ee6f38bf-a761-43b2-836d-45a026badd98",
   "metadata": {},
   "outputs": [],
   "source": []
  },
  {
   "cell_type": "code",
   "execution_count": null,
   "id": "8ca9c2b3-a64c-4f14-b40b-7ef6543f636e",
   "metadata": {},
   "outputs": [],
   "source": []
  },
  {
   "cell_type": "code",
   "execution_count": null,
   "id": "53abb4d7-bb09-41b9-931b-8b2429109687",
   "metadata": {},
   "outputs": [],
   "source": []
  },
  {
   "cell_type": "code",
   "execution_count": null,
   "id": "4ffa86f1-aba1-4499-b60c-cd308706a162",
   "metadata": {},
   "outputs": [],
   "source": []
  },
  {
   "cell_type": "code",
   "execution_count": null,
   "id": "17e9498a-10a9-4dea-8dac-44ea016a90d3",
   "metadata": {},
   "outputs": [],
   "source": []
  },
  {
   "cell_type": "code",
   "execution_count": null,
   "id": "14a16a56-e1a8-461d-afde-a4bec66b3560",
   "metadata": {},
   "outputs": [],
   "source": []
  },
  {
   "cell_type": "code",
   "execution_count": null,
   "id": "377186bb-8618-4bfd-ad73-0c22f229e251",
   "metadata": {},
   "outputs": [],
   "source": []
  },
  {
   "cell_type": "code",
   "execution_count": null,
   "id": "8cc48f9a-8b89-414e-8ec6-aa59ef7e3ea9",
   "metadata": {},
   "outputs": [],
   "source": []
  },
  {
   "cell_type": "code",
   "execution_count": null,
   "id": "a9fc79af-ce9e-48f1-ba93-45c14c200a4b",
   "metadata": {},
   "outputs": [],
   "source": []
  },
  {
   "cell_type": "code",
   "execution_count": null,
   "id": "83cdeb46-656b-42eb-b34e-6166394a664f",
   "metadata": {},
   "outputs": [],
   "source": []
  },
  {
   "cell_type": "code",
   "execution_count": null,
   "id": "f6285537-c577-44cc-b9c1-7f52ccabc3ac",
   "metadata": {},
   "outputs": [],
   "source": []
  },
  {
   "cell_type": "code",
   "execution_count": null,
   "id": "f8eb3f87-546b-4363-8c80-5cced92527b1",
   "metadata": {},
   "outputs": [],
   "source": []
  },
  {
   "cell_type": "code",
   "execution_count": null,
   "id": "c6ee39ec-cb54-4bcd-bf62-8fba332f89ca",
   "metadata": {},
   "outputs": [],
   "source": []
  },
  {
   "cell_type": "code",
   "execution_count": null,
   "id": "517eb560-d351-48c0-a766-2c4a5f331536",
   "metadata": {},
   "outputs": [],
   "source": []
  },
  {
   "cell_type": "code",
   "execution_count": null,
   "id": "4a4c0b6d-bfd0-4a19-ab6c-bcb4bea2d147",
   "metadata": {},
   "outputs": [],
   "source": []
  },
  {
   "cell_type": "code",
   "execution_count": null,
   "id": "2fb1195c-446f-4539-b4ec-3ad41a479918",
   "metadata": {},
   "outputs": [],
   "source": []
  },
  {
   "cell_type": "code",
   "execution_count": null,
   "id": "2d2972b3-528a-44ef-926d-1ecd7722eb9a",
   "metadata": {},
   "outputs": [],
   "source": []
  },
  {
   "cell_type": "code",
   "execution_count": null,
   "id": "ec425132-dedd-4226-88d8-3c69111c6e84",
   "metadata": {},
   "outputs": [],
   "source": []
  },
  {
   "cell_type": "code",
   "execution_count": null,
   "id": "1a55bcb6-c5d4-4d6a-ad34-d7a63f2100a8",
   "metadata": {},
   "outputs": [],
   "source": []
  },
  {
   "cell_type": "code",
   "execution_count": null,
   "id": "a161052c-2fab-43eb-975e-7745e8ae7d19",
   "metadata": {},
   "outputs": [],
   "source": []
  },
  {
   "cell_type": "code",
   "execution_count": null,
   "id": "575b0716-37c3-42c2-befa-db8e72828de3",
   "metadata": {},
   "outputs": [],
   "source": []
  },
  {
   "cell_type": "code",
   "execution_count": null,
   "id": "9a84e67c-e3c9-482f-a7a3-b28415945589",
   "metadata": {},
   "outputs": [],
   "source": []
  }
 ],
 "metadata": {
  "kernelspec": {
   "display_name": "Python [conda env:base] *",
   "language": "python",
   "name": "conda-base-py"
  },
  "language_info": {
   "codemirror_mode": {
    "name": "ipython",
    "version": 3
   },
   "file_extension": ".py",
   "mimetype": "text/x-python",
   "name": "python",
   "nbconvert_exporter": "python",
   "pygments_lexer": "ipython3",
   "version": "3.12.7"
  }
 },
 "nbformat": 4,
 "nbformat_minor": 5
}
