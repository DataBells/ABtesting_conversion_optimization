{
 "cells": [
  {
   "cell_type": "markdown",
   "id": "6b3dec29-5d1f-43ff-89ad-c77a2599748b",
   "metadata": {},
   "source": [
    "   <a id='top'></a>\n",
    "<div class=\"list-group\" id=\"list-tab\" role=\"tablist\">\n",
    "<p style=\"background-color:#003166;font-family:newtimeroman;font-size:150%;text-align:center;border-radius:50px 10px;\">TABLE OF CONTENTS</p>   \n",
    "    \n",
    "* [1. IMPORTING LIBRARIES](#1)\n",
    "    \n",
    "* [2. DATA PREPRATION](#2)\n",
    "    \n",
    "* [2. TRANSFER LEARNING](#3)\n",
    "    \n",
    "* [3. EfficientNetB0](#4)\n",
    "    \n",
    "* [4. ResNet101](#5)   \n",
    "      \n",
    "* [6. Xception](#6)\n",
    "    \n",
    "* [7. CONCLUSION](#7)"
   ]
  },
  {
   "cell_type": "code",
   "execution_count": null,
   "id": "48971f8e-9c39-455e-962c-84a550893883",
   "metadata": {},
   "outputs": [],
   "source": []
  },
  {
   "cell_type": "code",
   "execution_count": null,
   "id": "29728371-c59f-4b37-8b06-4292b04e6eff",
   "metadata": {},
   "outputs": [],
   "source": []
  },
  {
   "cell_type": "code",
   "execution_count": null,
   "id": "ce609d07-3087-43fc-9462-c85dff1b8703",
   "metadata": {},
   "outputs": [],
   "source": []
  },
  {
   "cell_type": "code",
   "execution_count": null,
   "id": "10648a83-edc4-416c-9d0e-4c92c5222fed",
   "metadata": {},
   "outputs": [],
   "source": []
  },
  {
   "cell_type": "code",
   "execution_count": null,
   "id": "6cac2e82-d6aa-4601-8252-d841ecf844a5",
   "metadata": {},
   "outputs": [],
   "source": []
  },
  {
   "cell_type": "code",
   "execution_count": null,
   "id": "7c234105-e866-4f45-94db-f8cc0462a6c1",
   "metadata": {},
   "outputs": [],
   "source": []
  },
  {
   "cell_type": "code",
   "execution_count": null,
   "id": "dec0583c-b148-40c2-a09b-25cfe952e9ce",
   "metadata": {},
   "outputs": [],
   "source": []
  },
  {
   "cell_type": "code",
   "execution_count": null,
   "id": "ea839b7c-156b-4713-a207-b88ad11f2a6d",
   "metadata": {},
   "outputs": [],
   "source": []
  },
  {
   "cell_type": "code",
   "execution_count": null,
   "id": "ae67c197-b87d-4d74-b625-63fed24bcc95",
   "metadata": {},
   "outputs": [],
   "source": []
  },
  {
   "cell_type": "code",
   "execution_count": null,
   "id": "f91f67fc-891f-4cf5-9c91-ac463eef1cf8",
   "metadata": {},
   "outputs": [],
   "source": []
  },
  {
   "cell_type": "code",
   "execution_count": null,
   "id": "5a68f3fb-7b2a-40dc-8bf2-2b15f668ba17",
   "metadata": {},
   "outputs": [],
   "source": []
  },
  {
   "cell_type": "code",
   "execution_count": null,
   "id": "dca30c7c-084d-4bbe-8459-75558de46d64",
   "metadata": {},
   "outputs": [],
   "source": []
  },
  {
   "cell_type": "code",
   "execution_count": null,
   "id": "16291e52-43ff-419e-915d-40194322bdef",
   "metadata": {},
   "outputs": [],
   "source": []
  },
  {
   "cell_type": "code",
   "execution_count": null,
   "id": "e68d7f87-b462-4065-b0cc-d2fc768d1d38",
   "metadata": {},
   "outputs": [],
   "source": []
  },
  {
   "cell_type": "code",
   "execution_count": null,
   "id": "cb809d1a-dd6e-4800-a521-4de08c81cd80",
   "metadata": {},
   "outputs": [],
   "source": []
  },
  {
   "cell_type": "code",
   "execution_count": null,
   "id": "3691765f-7a2b-450e-9dbd-0ccd3fcd6c32",
   "metadata": {},
   "outputs": [],
   "source": []
  },
  {
   "cell_type": "code",
   "execution_count": null,
   "id": "75d7d991-48c3-4d7f-8cb1-026ff240832d",
   "metadata": {},
   "outputs": [],
   "source": []
  },
  {
   "cell_type": "code",
   "execution_count": null,
   "id": "fe953d65-cbbc-4350-b610-c571b887f180",
   "metadata": {},
   "outputs": [],
   "source": []
  },
  {
   "cell_type": "code",
   "execution_count": null,
   "id": "a9029bfc-8f23-47e2-b09a-bf0ae7202f79",
   "metadata": {},
   "outputs": [],
   "source": []
  },
  {
   "cell_type": "code",
   "execution_count": null,
   "id": "91207b61-2b7f-4d06-97aa-0ed8bd9dcb18",
   "metadata": {},
   "outputs": [],
   "source": []
  },
  {
   "cell_type": "code",
   "execution_count": null,
   "id": "6d1f229e-4853-4fef-82e9-d905b00efb07",
   "metadata": {},
   "outputs": [],
   "source": []
  },
  {
   "cell_type": "code",
   "execution_count": null,
   "id": "0ef858be-61f5-4f0b-afa0-e5f8b53589b3",
   "metadata": {},
   "outputs": [],
   "source": []
  },
  {
   "cell_type": "code",
   "execution_count": null,
   "id": "3efb9054-2db9-44f1-895c-aa4fdd94b682",
   "metadata": {},
   "outputs": [],
   "source": []
  },
  {
   "cell_type": "code",
   "execution_count": null,
   "id": "c9574d2d-fef1-4b71-8fc5-0665cb29bc27",
   "metadata": {},
   "outputs": [],
   "source": []
  },
  {
   "cell_type": "code",
   "execution_count": null,
   "id": "3eed3467-1988-4088-8f6a-016c64161666",
   "metadata": {},
   "outputs": [],
   "source": []
  },
  {
   "cell_type": "code",
   "execution_count": null,
   "id": "b1a52d5d-5dc5-4ecf-bb37-b34ade501a7f",
   "metadata": {},
   "outputs": [],
   "source": []
  },
  {
   "cell_type": "code",
   "execution_count": null,
   "id": "3d076b09-72e1-4911-b0d4-ea4f2791689a",
   "metadata": {},
   "outputs": [],
   "source": []
  },
  {
   "cell_type": "code",
   "execution_count": null,
   "id": "ce972942-4ad1-4841-a08e-990039cb039a",
   "metadata": {},
   "outputs": [],
   "source": []
  },
  {
   "cell_type": "code",
   "execution_count": null,
   "id": "4b6866fc-2490-483f-8936-aa359a7ab865",
   "metadata": {},
   "outputs": [],
   "source": []
  },
  {
   "cell_type": "code",
   "execution_count": null,
   "id": "6e89e1b0-e231-46ea-9a8f-342bbda87e6a",
   "metadata": {},
   "outputs": [],
   "source": []
  },
  {
   "cell_type": "code",
   "execution_count": null,
   "id": "86311c70-701b-45e3-9d31-74503f6246d3",
   "metadata": {},
   "outputs": [],
   "source": []
  },
  {
   "cell_type": "code",
   "execution_count": null,
   "id": "e6b7e1b2-795b-4291-86f8-e32d45bd03ef",
   "metadata": {},
   "outputs": [],
   "source": []
  },
  {
   "cell_type": "code",
   "execution_count": null,
   "id": "efe2a74f-a6de-4c34-96a3-1de20a6ed9f3",
   "metadata": {},
   "outputs": [],
   "source": []
  },
  {
   "cell_type": "code",
   "execution_count": null,
   "id": "0bd07db1-2bfa-445b-9dbe-5a26f2ecd377",
   "metadata": {},
   "outputs": [],
   "source": []
  },
  {
   "cell_type": "code",
   "execution_count": null,
   "id": "8a74a1b3-2106-4f1a-a60e-4fc80387e4f9",
   "metadata": {},
   "outputs": [],
   "source": []
  },
  {
   "cell_type": "code",
   "execution_count": null,
   "id": "158494b3-e48c-405a-a783-59779105d2d3",
   "metadata": {},
   "outputs": [],
   "source": []
  },
  {
   "cell_type": "code",
   "execution_count": null,
   "id": "b93b8a83-aae0-4c0a-8b99-47f73853f219",
   "metadata": {},
   "outputs": [],
   "source": []
  },
  {
   "cell_type": "code",
   "execution_count": null,
   "id": "7b58bebe-831c-4269-81bb-09a942496aa0",
   "metadata": {},
   "outputs": [],
   "source": []
  },
  {
   "cell_type": "code",
   "execution_count": null,
   "id": "a67c18c7-9696-483b-a4da-77836ff4c309",
   "metadata": {},
   "outputs": [],
   "source": []
  },
  {
   "cell_type": "code",
   "execution_count": null,
   "id": "5a44b23c-61db-4bcb-9ce7-3c685b4fec21",
   "metadata": {},
   "outputs": [],
   "source": []
  },
  {
   "cell_type": "code",
   "execution_count": null,
   "id": "4252c698-a6a0-431f-aa6b-a16ebcddbe9a",
   "metadata": {},
   "outputs": [],
   "source": []
  },
  {
   "cell_type": "markdown",
   "id": "7313630b-3d69-4a3b-85d4-63db7c0da241",
   "metadata": {},
   "source": [
    "<a id=\"1\"></a>\n",
    "# <p style=\"background-color:#003166;font-family:newtimeroman;font-size:150%;text-align:center;border-radius:50px 10px;\">Importing Libraries</p>"
   ]
  },
  {
   "cell_type": "code",
   "execution_count": null,
   "id": "7c8e07a3-5964-45a2-a7f1-b8a673b8b03b",
   "metadata": {},
   "outputs": [],
   "source": []
  }
 ],
 "metadata": {
  "kernelspec": {
   "display_name": "Python 3 (ipykernel)",
   "language": "python",
   "name": "python3"
  },
  "language_info": {
   "codemirror_mode": {
    "name": "ipython",
    "version": 3
   },
   "file_extension": ".py",
   "mimetype": "text/x-python",
   "name": "python",
   "nbconvert_exporter": "python",
   "pygments_lexer": "ipython3",
   "version": "3.13.0"
  }
 },
 "nbformat": 4,
 "nbformat_minor": 5
}
